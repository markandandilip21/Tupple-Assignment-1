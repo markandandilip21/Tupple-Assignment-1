{
 "cells": [
  {
   "cell_type": "code",
   "execution_count": 1,
   "id": "4dac4c0f",
   "metadata": {},
   "outputs": [
    {
     "name": "stdout",
     "output_type": "stream",
     "text": [
      "Enter a list of tuples : [(2, 5), (1, 2), (4, 4), (2, 3), (2, 1)]\n",
      "Sorted list:\n",
      "[(2, 1), (1, 2), (2, 3), (4, 4), (2, 5)]\n"
     ]
    }
   ],
   "source": [
    "input_str = input(\"Enter a list of tuples : \")\n",
    "tuple_strs = input_str[1:-1].split('), ')\n",
    "tuples_list = []\n",
    "for tuple_str in tuple_strs:\n",
    "    if tuple_str[-1] != ')':\n",
    "        tuple_str += ')'\n",
    "    tuple_values = tuple(map(int, tuple_str[1:-1].split(',')))\n",
    "    tuples_list.append(tuple_values)\n",
    "n = len(tuples_list)\n",
    "for i in range(n - 1):\n",
    "    swapped = False\n",
    "    for j in range(n - i - 1):\n",
    "        if tuples_list[j][-1] > tuples_list[j + 1][-1]:\n",
    "            tuples_list[j], tuples_list[j + 1] = tuples_list[j + 1], tuples_list[j]\n",
    "            swapped = True\n",
    "    if not swapped:\n",
    "        break\n",
    "print(\"Sorted list:\")\n",
    "print(tuples_list)\n",
    "\n",
    "\n"
   ]
  },
  {
   "cell_type": "code",
   "execution_count": null,
   "id": "38e0e6b9",
   "metadata": {},
   "outputs": [],
   "source": []
  },
  {
   "cell_type": "code",
   "execution_count": null,
   "id": "79d3e976",
   "metadata": {},
   "outputs": [],
   "source": []
  }
 ],
 "metadata": {
  "kernelspec": {
   "display_name": "Python 3 (ipykernel)",
   "language": "python",
   "name": "python3"
  },
  "language_info": {
   "codemirror_mode": {
    "name": "ipython",
    "version": 3
   },
   "file_extension": ".py",
   "mimetype": "text/x-python",
   "name": "python",
   "nbconvert_exporter": "python",
   "pygments_lexer": "ipython3",
   "version": "3.10.9"
  }
 },
 "nbformat": 4,
 "nbformat_minor": 5
}
